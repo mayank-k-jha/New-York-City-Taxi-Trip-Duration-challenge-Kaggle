{
 "cells": [
  {
   "cell_type": "markdown",
   "metadata": {
    "_cell_guid": "969499b3-813e-4b28-bc6c-35bd3ef267f0",
    "_uuid": "c99a66ea4caff459d64a70f748f75a6a6ad792c7"
   },
   "source": [
    "**In this competition, Kaggle is challenging you to build a model that predicts the total ride duration of taxi trips in New York City. Your primary dataset is one released by the NYC Taxi and Limousine Commission, which includes pickup time, geo-coordinates, number of passengers, and several other variables.**\n",
    "\n",
    "**Contents : **\n",
    "1. **Exploration**\n",
    "\n",
    "2.    **Outliers Removal**\n",
    "\n",
    "3.    **Feature Extraction**\n",
    "\n",
    "4.    **Model Preparation**\n",
    "\n",
    "5.    **Results **"
   ]
  },
  {
   "cell_type": "code",
   "execution_count": 1,
   "metadata": {
    "_cell_guid": "736b0eb4-fa07-4d4c-9711-9b1604ed0e81",
    "_execution_state": "idle",
    "_uuid": "d82c8f8948f582faf4b986b0ee3a6bf7a667a84c",
    "collapsed": false
   },
   "outputs": [],
   "source": [
    "import numpy as np # linear algebra\n",
    "import pandas as pd # data processing, CSV file I/O (e.g. pd.read_csv)\n",
    "import matplotlib.pyplot as plt\n",
    "import seaborn as sns\n",
    "from subprocess import check_output\n",
    "#print(check_output([\"ls\", \"../input\"]).decode(\"utf8\"))"
   ]
  },
  {
   "cell_type": "code",
   "execution_count": 2,
   "metadata": {
    "_cell_guid": "67e80e2b-c7da-4dca-a748-dce02cd0ec9d",
    "_execution_state": "idle",
    "_uuid": "e32d26746eebd410400430bdcf926d16cdba7521",
    "collapsed": false
   },
   "outputs": [],
   "source": [
    "#sample=pd.read_csv('sample_submission.csv')\n",
    "test=pd.read_csv('test.csv')"
   ]
  },
  {
   "cell_type": "code",
   "execution_count": 3,
   "metadata": {
    "collapsed": false
   },
   "outputs": [
    {
     "data": {
      "text/plain": [
       "0"
      ]
     },
     "execution_count": 3,
     "metadata": {},
     "output_type": "execute_result"
    }
   ],
   "source": [
    "import gc\n",
    "gc.collect()"
   ]
  },
  {
   "cell_type": "code",
   "execution_count": 4,
   "metadata": {
    "collapsed": true
   },
   "outputs": [],
   "source": [
    "train=pd.read_csv('train.csv')"
   ]
  },
  {
   "cell_type": "code",
   "execution_count": 5,
   "metadata": {
    "collapsed": false
   },
   "outputs": [
    {
     "data": {
      "text/plain": [
       "0"
      ]
     },
     "execution_count": 5,
     "metadata": {},
     "output_type": "execute_result"
    }
   ],
   "source": [
    "import gc\n",
    "gc.collect()"
   ]
  },
  {
   "cell_type": "markdown",
   "metadata": {
    "_cell_guid": "be0a0cb6-2156-4dc8-baae-e9d32a40d6cd",
    "_uuid": "2e4c35141401e28efe65e49d6d4df247ff88b060"
   },
   "source": [
    "1.**Exploration**"
   ]
  },
  {
   "cell_type": "code",
   "execution_count": 6,
   "metadata": {
    "_cell_guid": "b410548f-b5f3-459b-a785-bb9b58d740c8",
    "_execution_state": "idle",
    "_uuid": "e8403f22bc98572500b3741914d6e75568e31f38",
    "collapsed": false
   },
   "outputs": [],
   "source": [
    "#print(sample.head())\n",
    "#print('\\n',test.head())\n",
    "#print('\\n',train.head())"
   ]
  },
  {
   "cell_type": "code",
   "execution_count": 7,
   "metadata": {
    "_cell_guid": "f3ba5cec-572d-4c99-88eb-abc1d1250160",
    "_execution_state": "idle",
    "_uuid": "6d5947b66da58622d6e2b54e84fbb1f79db3e4a1",
    "collapsed": false
   },
   "outputs": [
    {
     "name": "stdout",
     "output_type": "stream",
     "text": [
      "(625134, 9)\n",
      "(1458644, 11)\n"
     ]
    }
   ],
   "source": [
    "print(test.shape)\n",
    "print(train.shape)"
   ]
  },
  {
   "cell_type": "code",
   "execution_count": 8,
   "metadata": {
    "_cell_guid": "0381fc1e-7700-45ca-bb93-f87d9f9adc30",
    "_execution_state": "idle",
    "_uuid": "cba2ee706bdc2dc9950fe1461676f333ce6a70c6",
    "collapsed": false
   },
   "outputs": [],
   "source": [
    "#print(test.columns)\n",
    "#print(train.columns)"
   ]
  },
  {
   "cell_type": "code",
   "execution_count": 9,
   "metadata": {
    "_cell_guid": "8e965006-0be4-4904-8b3a-3729e4babb42",
    "_execution_state": "idle",
    "_uuid": "679ae9fb118b4f2ff047dca7e11a1a79b324f48f",
    "collapsed": false
   },
   "outputs": [],
   "source": [
    "#print(test.isnull().sum())\n",
    "#print(train.isnull().sum())"
   ]
  },
  {
   "cell_type": "code",
   "execution_count": 10,
   "metadata": {
    "_cell_guid": "8b6d17e4-620d-4081-b4b2-e55c9565899f",
    "_execution_state": "idle",
    "_uuid": "934792825148162acd29e85bf3dafb73284780c3",
    "collapsed": false
   },
   "outputs": [],
   "source": [
    "#print(test.info())\n",
    "#print(train.info())\n",
    "#print('\\n\\n',test.describe(),'\\n\\n',train.describe())"
   ]
  },
  {
   "cell_type": "markdown",
   "metadata": {
    "_cell_guid": "c37050b1-6fea-40c2-8d75-1edd75a0bfc7",
    "_uuid": "258bccfa518934fa9a55fa6fd557f526e9c1835f"
   },
   "source": [
    "2.**Outliers detection and removal**"
   ]
  },
  {
   "cell_type": "code",
   "execution_count": 11,
   "metadata": {
    "_cell_guid": "c4de472c-a03d-4071-b528-b1897bf13b51",
    "_execution_state": "idle",
    "_uuid": "359b280edc1f4eb36b6483ff6a88a55e0f7767fc",
    "collapsed": false
   },
   "outputs": [
    {
     "name": "stdout",
     "output_type": "stream",
     "text": [
      "count    1.458644e+06\n",
      "mean     2.665256e-01\n",
      "std      1.454842e+00\n",
      "min      2.777778e-04\n",
      "25%      1.102778e-01\n",
      "50%      1.838889e-01\n",
      "75%      2.986111e-01\n",
      "max      9.795228e+02\n",
      "Name: trip_dur_hr, dtype: float64 \n",
      "\n"
     ]
    },
    {
     "name": "stderr",
     "output_type": "stream",
     "text": [
      "C:\\ProgramData\\Anaconda3\\lib\\site-packages\\ipykernel\\__main__.py:16: SettingWithCopyWarning: \n",
      "A value is trying to be set on a copy of a slice from a DataFrame\n",
      "\n",
      "See the caveats in the documentation: http://pandas.pydata.org/pandas-docs/stable/indexing.html#indexing-view-versus-copy\n"
     ]
    },
    {
     "name": "stdout",
     "output_type": "stream",
     "text": [
      "(1456391, 12)\n"
     ]
    },
    {
     "name": "stderr",
     "output_type": "stream",
     "text": [
      "C:\\ProgramData\\Anaconda3\\lib\\site-packages\\ipykernel\\__main__.py:17: SettingWithCopyWarning: \n",
      "A value is trying to be set on a copy of a slice from a DataFrame\n",
      "\n",
      "See the caveats in the documentation: http://pandas.pydata.org/pandas-docs/stable/indexing.html#indexing-view-versus-copy\n"
     ]
    }
   ],
   "source": [
    "#Converting Trip duration in Hours\n",
    "train['trip_dur_hr']=train['trip_duration']/3600\n",
    "print(train['trip_dur_hr'].describe(),'\\n')\n",
    "\n",
    "#We can see that 75 % of data have value less than or equals to 2.986111e-01 Hrs\n",
    "#but max value is 9.795228e+02 Hrs(Quite Large) :> Definitly an outlier\n",
    "\n",
    "#Checking data sufficient for removal\n",
    "#print(len(train.loc[train['trip_dur_hr']>=4,['trip_dur_hr']])) gives  2077 entries\n",
    "#print(len(train.loc[train['trip_dur_hr']>=2,['trip_dur_hr']])) gives 2253 entries\n",
    "#print(len(train.loc[train['trip_dur_hr']>=1,['trip_dur_hr']])) gives 12334 entries\n",
    "#Hence removing entries with trip_du_hr>=2 seems good\n",
    "\n",
    "#drop above 2 hrs trip data (removing outliers)\n",
    "train=train.loc[train['trip_dur_hr']<=2,[str(i) for i in train.columns]]\n",
    "train['passenger_count'][train['passenger_count']>=8]=6\n",
    "test['passenger_count'][test['passenger_count']>=8]=6\n",
    "print(train.shape)\n",
    "#print(min(train['trip_duration']),max(train.trip_duration))\n",
    "#print(min(train.trip_dur_hr),max(train.trip_dur_hr),'\\n\\n')\n",
    "#print(train['trip_dur_hr'].describe())"
   ]
  },
  {
   "cell_type": "markdown",
   "metadata": {
    "_cell_guid": "805c599b-ca50-448e-b850-0451414e00b2",
    "_uuid": "0686d8c1ba7771cdc594a886c88b7d5bb1d104e1"
   },
   "source": [
    "3.**Feature Extraction : **"
   ]
  },
  {
   "cell_type": "code",
   "execution_count": 12,
   "metadata": {
    "_cell_guid": "b5320ada-f9f6-488a-999d-962cfd55275c",
    "_execution_state": "busy",
    "_uuid": "55710b952b4fe0887d92d7ff28db6744bec1c83a",
    "collapsed": true
   },
   "outputs": [],
   "source": [
    "# Caculating distance between pickup and dropup location\n",
    "from math import sin, cos, sqrt, atan2, radians\n",
    "def distance(lat1,lat2,lon1,lon2):\n",
    "    R = 6371.0\n",
    "    lat1 = radians(lat1)\n",
    "    lon1 = radians(lon1)\n",
    "    lat2 = radians(lat2)\n",
    "    lon2 = radians(lon2)\n",
    "    dlon = lon2 - lon1\n",
    "    dlat = lat2 - lat1\n",
    "    a = sin(dlat / 2)**2 + cos(lat1) * cos(lat2) * sin(dlon / 2)**2\n",
    "    c = 2 * atan2(sqrt(a), sqrt(1 - a))\n",
    "    distance = R * c\n",
    "    return distance\n",
    "train['distance']=[distance(i,j,k,l) for i,j,k,l in zip(train.pickup_latitude,\n",
    "                                                        train.dropoff_latitude,train.pickup_longitude,\n",
    "                                                        train.dropoff_longitude)]\n",
    "test['distance']=[distance(i,j,k,l) for i,j,k,l in zip(test.pickup_latitude,\n",
    "                                                        test.dropoff_latitude,test.pickup_longitude,\n",
    "                                                        test.dropoff_longitude)]"
   ]
  },
  {
   "cell_type": "code",
   "execution_count": 13,
   "metadata": {
    "collapsed": false
   },
   "outputs": [
    {
     "data": {
      "text/plain": [
       "427"
      ]
     },
     "execution_count": 13,
     "metadata": {},
     "output_type": "execute_result"
    }
   ],
   "source": [
    "import gc\n",
    "gc.collect()"
   ]
  },
  {
   "cell_type": "code",
   "execution_count": 14,
   "metadata": {
    "_cell_guid": "d911d590-940c-4c7a-b7fe-9d34717fb7ca",
    "_execution_state": "busy",
    "_uuid": "e3474a68d7f232fbe4342c2868ef739c929b440e",
    "collapsed": true
   },
   "outputs": [],
   "source": [
    "#Latitude and Longitude to cartesian cordindates converesion\n",
    "# Assuming Earth as sphere not ellipsoid \n",
    "def cartesian_x(lat,lon):\n",
    "    lat=radians(lat)\n",
    "    lon=radians(lon)\n",
    "    R=6371.0\n",
    "    x = R * cos(lat) * cos(lon)\n",
    "    return x\n",
    "def cartesian_y(lat,lon):\n",
    "    lat=radians(lat)\n",
    "    lon=radians(lon)\n",
    "    R=6371.0\n",
    "    y = R * cos(lat) * sin(lon)\n",
    "    return y\n",
    "# extracting cartesian x,y cordinates form latitude and longitude\n",
    "train['x1']=[cartesian_x(i,j) for i,j in zip(train['pickup_latitude'],train['pickup_longitude'])]\n",
    "train['y1']=[cartesian_y(i,j) for i,j in zip(train['pickup_latitude'],train['pickup_longitude'])]\n",
    "train['x2']=[cartesian_x(i,j) for i,j in zip(train['dropoff_latitude'],train['dropoff_longitude'])]\n",
    "train['y2']=[cartesian_y(i,j) for i,j in zip(train['dropoff_latitude'],train['dropoff_longitude'])]\n",
    "\n",
    "test['x1']=[cartesian_x(i,j) for i,j in zip(test['pickup_latitude'],test['pickup_longitude'])]\n",
    "test['y1']=[cartesian_y(i,j) for i,j in zip(test['pickup_latitude'],test['pickup_longitude'])]\n",
    "test['x2']=[cartesian_x(i,j) for i,j in zip(test['dropoff_latitude'],test['dropoff_longitude'])]\n",
    "test['y2']=[cartesian_y(i,j) for i,j in zip(test['dropoff_latitude'],test['dropoff_longitude'])]"
   ]
  },
  {
   "cell_type": "code",
   "execution_count": 15,
   "metadata": {
    "_cell_guid": "7dbbfe46-85a7-465a-9eb7-37bac2804a4c",
    "_execution_state": "busy",
    "_uuid": "f6fd5d70deb70a30c164e59045bef78ef74888be",
    "collapsed": false
   },
   "outputs": [],
   "source": [
    "#Manhattan Distance\n",
    "train['Manhattan_dist'] =(train['x1'] - train['x2']).abs() +(train['y1'] - train['y2']).abs()    \n",
    "test['Manhattan_dist'] =(test['x1'] - test['x2']).abs() + (test['y1'] - test['y2']).abs()   \n",
    "#Chebyshev Distance\n",
    "train['Chebyshev_dist']=[max(abs(i-j),abs(k-l)) for i,j,k,l in zip(train['x1'],\n",
    "                                                                           train['y1'],train['x2'],\n",
    "                                                                          train['y2'])]\n",
    "test['Chebyshev_dist']=[max(abs(i-j),abs(k-l)) for i,j,k,l in zip(test['x1'],\n",
    "                                                                           test['y1'],test['x2'],\n",
    "                                                                          test['y2'])]\n",
    "train['my_dis']=[min(abs(i-j),abs(k-l)) for i,j,k,l in zip(train['x1'],train['y1'],train['x2'],train['y2'])]\n",
    "test['my_dis']=[min(abs(i-j),abs(k-l)) for i,j,k,l in zip(test['x1'],test['y1'],test['x2'],test['y2'])]\n",
    "\n",
    "train['my_dis1']=(train['x1'] - train['x2']).abs() * (train['y1'] - train['y2']).abs()  \n",
    "test['my_dis1']=(test['x1'] - test['x2']).abs() * (test['y1'] - test['y2']).abs() \n"
   ]
  },
  {
   "cell_type": "code",
   "execution_count": 16,
   "metadata": {
    "collapsed": false
   },
   "outputs": [
    {
     "data": {
      "text/plain": [
       "96"
      ]
     },
     "execution_count": 16,
     "metadata": {},
     "output_type": "execute_result"
    }
   ],
   "source": [
    "import gc\n",
    "gc.collect()"
   ]
  },
  {
   "cell_type": "code",
   "execution_count": 17,
   "metadata": {
    "collapsed": true
   },
   "outputs": [],
   "source": [
    "def bearing_array(lat1, lng1, lat2, lng2):\n",
    "    AVG_EARTH_RADIUS = 6371  # in km\n",
    "    lng_delta_rad = np.radians(lng2 - lng1)\n",
    "    lat1, lng1, lat2, lng2 = map(np.radians, (lat1, lng1, lat2, lng2))\n",
    "    y = np.sin(lng_delta_rad) * np.cos(lat2)\n",
    "    x = np.cos(lat1) * np.sin(lat2) - np.sin(lat1) * np.cos(lat2) * np.cos(lng_delta_rad)\n",
    "    return np.degrees(np.arctan2(y, x))\n",
    "train.loc[:, 'direction'] = bearing_array(train['pickup_latitude'].values, \n",
    "                                          train['pickup_longitude'].values, \n",
    "                                          train['dropoff_latitude'].values,\n",
    "                                          train['dropoff_longitude'].values)\n",
    "test.loc[:, 'direction'] = bearing_array(test['pickup_latitude'].values, \n",
    "                                         test['pickup_longitude'].values, \n",
    "                                         test['dropoff_latitude'].values, \n",
    "                                         test['dropoff_longitude'].values)"
   ]
  },
  {
   "cell_type": "code",
   "execution_count": 18,
   "metadata": {
    "_cell_guid": "5c81718d-ab01-4565-a31f-c14ba18e41bb",
    "_execution_state": "busy",
    "_uuid": "0f09be0fe5010c8714d776a452e994d87ab22761",
    "collapsed": false
   },
   "outputs": [
    {
     "name": "stdout",
     "output_type": "stream",
     "text": [
      "149105.467543\n",
      "208893.15349 6950.82649923 6218.75370482\n"
     ]
    }
   ],
   "source": [
    "#print(train.Manhattan_dist.describe())\n",
    "print(train.my_dis1.max())\n",
    "#print(test.Manhattan_dist.describe())\n",
    "print(test.my_dis1.max(),train['my_dis'].max(),test['my_dis'].max())"
   ]
  },
  {
   "cell_type": "code",
   "execution_count": 19,
   "metadata": {
    "_cell_guid": "f003a392-3351-48ab-b507-3e877c809cc9",
    "_execution_state": "busy",
    "_uuid": "30fef0fae51808243dd5ea5e7f0bd34570f519ff",
    "collapsed": false
   },
   "outputs": [
    {
     "name": "stdout",
     "output_type": "stream",
     "text": [
      "(1456391, 35) (625134, 32)\n",
      "Index(['id', 'vendor_id', 'pickup_datetime', 'dropoff_datetime',\n",
      "       'passenger_count', 'pickup_longitude', 'pickup_latitude',\n",
      "       'dropoff_longitude', 'dropoff_latitude', 'store_and_fwd_flag',\n",
      "       'trip_duration', 'trip_dur_hr', 'distance', 'x1', 'y1', 'x2', 'y2',\n",
      "       'Manhattan_dist', 'Chebyshev_dist', 'my_dis', 'my_dis1', 'direction',\n",
      "       'datetime', 'hour_pick', 'day_of_week', 'day_of_month', 'month',\n",
      "       'is_night_time', 'late_night_time', 'week', 'min_of_pick', 'weather',\n",
      "       'quarter', 'center_lat', 'center_long'],\n",
      "      dtype='object') \n",
      " Index(['id', 'vendor_id', 'pickup_datetime', 'passenger_count',\n",
      "       'pickup_longitude', 'pickup_latitude', 'dropoff_longitude',\n",
      "       'dropoff_latitude', 'store_and_fwd_flag', 'distance', 'x1', 'y1', 'x2',\n",
      "       'y2', 'Manhattan_dist', 'Chebyshev_dist', 'my_dis', 'my_dis1',\n",
      "       'direction', 'datetime', 'hour_pick', 'day_of_week', 'day_of_month',\n",
      "       'month', 'is_night_time', 'late_night_time', 'week', 'min_of_pick',\n",
      "       'weather', 'quarter', 'center_lat', 'center_long'],\n",
      "      dtype='object')\n"
     ]
    }
   ],
   "source": [
    "#Feature extraction from Datetime\n",
    "\n",
    "train['datetime']=pd.to_datetime(train['pickup_datetime'])\n",
    "train['hour_pick']=train.datetime.dt.hour\n",
    "train['day_of_week']=train.datetime.dt.dayofweek\n",
    "train['day_of_month']=train.datetime.dt.days_in_month\n",
    "train['month']=train.datetime.dt.month\n",
    "train['is_night_time']=[1 if (i==0 or i>=19)  else 0 for i in train['datetime'].dt.hour]\n",
    "train['late_night_time']=[1 if (i<5 or i>0)  else 0 for i in train['datetime'].dt.hour]\n",
    "train['week']=train['datetime'].dt.week\n",
    "train['min_of_pick']=train['datetime'].dt.minute\n",
    "train['weather']=[1 if (i in [1,2,3]) else(2 if (i in [4,11,12]) else 3) for i in train['month']]\n",
    "train['quarter']=train.datetime.dt.quarter\n",
    "train['center_lat']=(train['dropoff_latitude']-train['pickup_latitude'])/2\n",
    "train['center_long']=(train['dropoff_longitude']-train['pickup_longitude'])/2\n",
    "\n",
    "test['datetime']=pd.to_datetime(test['pickup_datetime'])\n",
    "test['hour_pick']=test.datetime.dt.hour\n",
    "test['day_of_week']=test.datetime.dt.dayofweek\n",
    "test['day_of_month']=test.datetime.dt.days_in_month\n",
    "test['month']=test.datetime.dt.month\n",
    "test['is_night_time']=[1 if (i==0 or i>=19)  else 0 for i in test['datetime'].dt.hour]\n",
    "test['late_night_time']=[1 if (i<5 or i>0)  else 0 for i in test['datetime'].dt.hour]\n",
    "test['week']=test['datetime'].dt.week\n",
    "test['min_of_pick']=test['datetime'].dt.minute\n",
    "test['weather']=[1 if (i in [1,2,3]) else(2 if (i in [4,11,12]) else 3) for i in test['month']]\n",
    "test['quarter']=test.datetime.dt.quarter\n",
    "test['center_lat']=(test['dropoff_latitude']-test['pickup_latitude'])/2\n",
    "test['center_long']=(test['dropoff_longitude']-test['pickup_longitude'])/2\n",
    "\n",
    "print(train.shape,test.shape)\n",
    "print(train.columns,'\\n',test.columns)"
   ]
  },
  {
   "cell_type": "code",
   "execution_count": 20,
   "metadata": {
    "collapsed": false
   },
   "outputs": [
    {
     "data": {
      "text/plain": [
       "335"
      ]
     },
     "execution_count": 20,
     "metadata": {},
     "output_type": "execute_result"
    }
   ],
   "source": [
    "import gc\n",
    "gc.collect()"
   ]
  },
  {
   "cell_type": "code",
   "execution_count": 21,
   "metadata": {
    "collapsed": true
   },
   "outputs": [],
   "source": [
    "from sklearn.cluster import MiniBatchKMeans\n",
    "coords = np.vstack((train[['pickup_latitude', 'pickup_longitude']].values,\n",
    "                    train[['dropoff_latitude', 'dropoff_longitude']].values))\n",
    "sample_ind = np.random.permutation(len(coords))\n",
    "kmeans = MiniBatchKMeans(n_clusters=90, batch_size=10000).fit(coords[sample_ind])"
   ]
  },
  {
   "cell_type": "code",
   "execution_count": 22,
   "metadata": {
    "collapsed": false
   },
   "outputs": [
    {
     "data": {
      "text/plain": [
       "0"
      ]
     },
     "execution_count": 22,
     "metadata": {},
     "output_type": "execute_result"
    }
   ],
   "source": [
    "import gc\n",
    "gc.collect()"
   ]
  },
  {
   "cell_type": "code",
   "execution_count": 23,
   "metadata": {
    "collapsed": true
   },
   "outputs": [],
   "source": [
    "train.loc[:, 'pickup_cluster'] = kmeans.predict(train[['pickup_latitude', 'pickup_longitude']])\n",
    "train.loc[:, 'dropoff_cluster'] = kmeans.predict(train[['dropoff_latitude', 'dropoff_longitude']])\n"
   ]
  },
  {
   "cell_type": "code",
   "execution_count": 24,
   "metadata": {
    "collapsed": true
   },
   "outputs": [],
   "source": [
    "test.loc[:, 'pickup_cluster'] = kmeans.predict(test[['pickup_latitude', 'pickup_longitude']])\n",
    "test.loc[:, 'dropoff_cluster'] = kmeans.predict(test[['dropoff_latitude', 'dropoff_longitude']])\n"
   ]
  },
  {
   "cell_type": "markdown",
   "metadata": {
    "_cell_guid": "3bd75784-4261-4395-ac9a-1a74430691b1",
    "_uuid": "cbc37da49149cf5a50f4aaeefad6994d0c7d520e"
   },
   "source": [
    "4.**Model Preparation : **(In progress)\n",
    "\n"
   ]
  },
  {
   "cell_type": "code",
   "execution_count": 25,
   "metadata": {
    "_cell_guid": "b2ca6a94-1f3e-4751-8ed1-68419021609c",
    "_execution_state": "busy",
    "_uuid": "47a256050dbaac7d0aa9b6455f36c159a8b5cd30",
    "collapsed": false
   },
   "outputs": [
    {
     "name": "stdout",
     "output_type": "stream",
     "text": [
      "(1456391, 28) \n",
      "\n",
      " Index(['vendor_id', 'passenger_count', 'pickup_longitude', 'pickup_latitude',\n",
      "       'dropoff_longitude', 'dropoff_latitude', 'store_and_fwd_flag',\n",
      "       'trip_duration', 'distance', 'Manhattan_dist', 'Chebyshev_dist',\n",
      "       'my_dis', 'my_dis1', 'direction', 'hour_pick', 'day_of_week',\n",
      "       'day_of_month', 'month', 'is_night_time', 'late_night_time', 'week',\n",
      "       'min_of_pick', 'weather', 'quarter', 'center_lat', 'center_long',\n",
      "       'pickup_cluster', 'dropoff_cluster'],\n",
      "      dtype='object')\n",
      "(625134, 27) \n",
      "\n",
      " Index(['vendor_id', 'passenger_count', 'pickup_longitude', 'pickup_latitude',\n",
      "       'dropoff_longitude', 'dropoff_latitude', 'store_and_fwd_flag',\n",
      "       'distance', 'Manhattan_dist', 'Chebyshev_dist', 'my_dis', 'my_dis1',\n",
      "       'direction', 'hour_pick', 'day_of_week', 'day_of_month', 'month',\n",
      "       'is_night_time', 'late_night_time', 'week', 'min_of_pick', 'weather',\n",
      "       'quarter', 'center_lat', 'center_long', 'pickup_cluster',\n",
      "       'dropoff_cluster'],\n",
      "      dtype='object')\n"
     ]
    }
   ],
   "source": [
    "#Dropping id,pickup_datetime,'dropoff_datetime','pickup_longitude','pickup_latitude',\n",
    "#'dropoff_longitude','dropoff_latitude','x1', 'y1', 'x2','y2','trip_duration',\n",
    "#'datetime',\n",
    "train=train.drop(['id','pickup_datetime','dropoff_datetime','x1', 'y1', 'x2','y2','trip_dur_hr','datetime'],1)\n",
    "print(train.shape,'\\n\\n',train.columns)\n",
    "\n",
    "tst=test.drop(['id','pickup_datetime','x1', 'y1', 'x2','y2','datetime'],1)\n",
    "print(tst.shape,'\\n\\n',tst.columns)\n"
   ]
  },
  {
   "cell_type": "code",
   "execution_count": 26,
   "metadata": {
    "collapsed": false
   },
   "outputs": [
    {
     "data": {
      "text/plain": [
       "85"
      ]
     },
     "execution_count": 26,
     "metadata": {},
     "output_type": "execute_result"
    }
   ],
   "source": [
    "import gc\n",
    "gc.collect()"
   ]
  },
  {
   "cell_type": "code",
   "execution_count": 27,
   "metadata": {
    "_cell_guid": "aa62fd22-45bc-4ae8-8bbe-cae99f8b160b",
    "_execution_state": "busy",
    "_uuid": "fb6a23b05cb0f25f974b8e1574d65e2f16eb2ee1",
    "collapsed": false
   },
   "outputs": [],
   "source": [
    "#print(train.info())"
   ]
  },
  {
   "cell_type": "code",
   "execution_count": 28,
   "metadata": {
    "_cell_guid": "64e096a4-bb7d-4e84-9c9d-3803b51a0635",
    "_execution_state": "busy",
    "_uuid": "514d8b87bef0cc6cdf2db24b86f26af52323c24a",
    "collapsed": true
   },
   "outputs": [],
   "source": [
    "from sklearn.preprocessing import LabelEncoder\n",
    "le=LabelEncoder()\n",
    "train['store_and_fwd_flag']=le.fit_transform(train['store_and_fwd_flag'])"
   ]
  },
  {
   "cell_type": "code",
   "execution_count": 29,
   "metadata": {
    "_cell_guid": "cc9c219a-25c5-4f9f-89cb-45a54d509d72",
    "_execution_state": "busy",
    "_uuid": "b8bbacc6b2bb789607c91861af4bc735ec753c13",
    "collapsed": true
   },
   "outputs": [],
   "source": [
    "y=np.log(train['trip_duration'].values + 1)\n",
    "x=train.drop(['trip_duration'],1)\n",
    "del train"
   ]
  },
  {
   "cell_type": "code",
   "execution_count": 30,
   "metadata": {
    "collapsed": false
   },
   "outputs": [
    {
     "data": {
      "text/plain": [
       "7"
      ]
     },
     "execution_count": 30,
     "metadata": {},
     "output_type": "execute_result"
    }
   ],
   "source": [
    "import gc\n",
    "gc.collect()"
   ]
  },
  {
   "cell_type": "code",
   "execution_count": 19,
   "metadata": {
    "_cell_guid": "65ca60d5-7f6c-4871-b93c-99110039d144",
    "_execution_state": "busy",
    "_uuid": "c4f87ccbcd3cffe7eb0d73c09671594dab8b0bdb",
    "collapsed": true
   },
   "outputs": [],
   "source": [
    "#from sklearn.preprocessing import scale\n",
    "#x=scale(x)"
   ]
  },
  {
   "cell_type": "code",
   "execution_count": 20,
   "metadata": {
    "_cell_guid": "85bb90c1-90e2-41ee-885d-bc2ec7651512",
    "_execution_state": "busy",
    "_uuid": "f59dad6db6d43492c25a6b48a191cae2fe2cdbbc",
    "collapsed": true
   },
   "outputs": [],
   "source": [
    "#print(x.info())"
   ]
  },
  {
   "cell_type": "markdown",
   "metadata": {
    "_cell_guid": "ea715a02-b09c-4fdd-ae88-1aab21374057",
    "_uuid": "46a73d0e9ac494b92539097987f0901e50f59e8f"
   },
   "source": [
    "\n",
    "**=> Decission Tree**"
   ]
  },
  {
   "cell_type": "code",
   "execution_count": 21,
   "metadata": {
    "_cell_guid": "a2906681-ab34-4789-8273-2cecd76edf82",
    "_execution_state": "busy",
    "_uuid": "63a133cbd7d382bbe81473dc6eabbdbb16c8425a",
    "collapsed": false
   },
   "outputs": [
    {
     "name": "stderr",
     "output_type": "stream",
     "text": [
      "C:\\ProgramData\\Anaconda3\\lib\\site-packages\\sklearn\\cross_validation.py:44: DeprecationWarning: This module was deprecated in version 0.18 in favor of the model_selection module into which all the refactored classes and functions are moved. Also note that the interface of the new CV iterators are different from that of this module. This module will be removed in 0.20.\n",
      "  \"This module will be removed in 0.20.\", DeprecationWarning)\n"
     ]
    }
   ],
   "source": [
    "from sklearn.cross_validation import cross_val_score\n",
    "# Decission Tree regressor\n",
    "from sklearn.tree import DecisionTreeRegressor\n",
    "#model_dt=DecisionTreeRegressor(criterion='mse', splitter='best', max_depth=None, \n",
    "#                               min_samples_split=2, min_samples_leaf=1, \n",
    "#                               min_weight_fraction_leaf=0.0, max_features=None, \n",
    "#                               random_state=None, max_leaf_nodes=None, min_impurity_split=1e-07, \n",
    "#                               presort=False)\n",
    "#print(cross_val_score(model_dt,x,y,cv=5))"
   ]
  },
  {
   "cell_type": "markdown",
   "metadata": {
    "_cell_guid": "6fbf3511-87e1-4f7b-b586-0d6639dfee2e",
    "_uuid": "336ead7620f16b13af45cc0205f95728b3e9b34b"
   },
   "source": [
    "**=> Random Forrest Regressor **"
   ]
  },
  {
   "cell_type": "code",
   "execution_count": 22,
   "metadata": {
    "_cell_guid": "7382f603-fedc-4474-94af-4ad1f7d8ccac",
    "_execution_state": "busy",
    "_uuid": "8b3a0a87ea545280811f52dbeb314fbff2f89d26",
    "collapsed": true
   },
   "outputs": [],
   "source": [
    "#Random Forest Regressor\n",
    "from sklearn.ensemble import RandomForestRegressor\n",
    "#model_rnd_frst=RandomForestRegressor(n_estimators=10, criterion='mse', max_depth=None, \n",
    "#                                     min_samples_split=2, min_samples_leaf=1, \n",
    "#                                     min_weight_fraction_leaf=0.0, max_features='auto', \n",
    "#                                     max_leaf_nodes=None, min_impurity_split=1e-07, \n",
    "#                                     bootstrap=True, oob_score=False, n_jobs=-1, \n",
    "#                                     random_state=None, verbose=1, warm_start=False)\n",
    "#print(cross_val_score(model_rnd_frst,x,y,cv=2))"
   ]
  },
  {
   "cell_type": "markdown",
   "metadata": {
    "_cell_guid": "94b447bf-2b30-45cb-a621-174694fc69fc",
    "_uuid": "57fae4da41957a680f7fb59b28d9e7d157bfe5f8"
   },
   "source": [
    "**=> Ada Boost Regressor **"
   ]
  },
  {
   "cell_type": "code",
   "execution_count": 23,
   "metadata": {
    "_cell_guid": "77f83474-2030-4a66-ac95-a1975cd6ca65",
    "_execution_state": "busy",
    "_uuid": "cea79e4a29cb5c547796fe0f365bc4dfe76a6718",
    "collapsed": true
   },
   "outputs": [],
   "source": [
    "from sklearn.ensemble import AdaBoostRegressor\n",
    "#model_ada=AdaBoostRegressor(base_estimator=model_rnd_frst, n_estimators=50, learning_rate=1.0, \n",
    "#                            loss='linear', random_state=None)\n",
    "#print(cross_val_score(model_ada,x,y,cv=3))"
   ]
  },
  {
   "cell_type": "markdown",
   "metadata": {
    "_cell_guid": "6cfdb258-a591-4329-b843-6a85d1473883",
    "_uuid": "9a04be81e331d0c69c03d6c84825ee28786aab53"
   },
   "source": [
    "**=> Gradient Boosting Regressor **"
   ]
  },
  {
   "cell_type": "code",
   "execution_count": 24,
   "metadata": {
    "_cell_guid": "c9c1a6ec-7eac-4a9b-8828-5d4039312701",
    "_execution_state": "busy",
    "_uuid": "dd145794651021b8e3a27020d2d938ba8458ad8e",
    "collapsed": true
   },
   "outputs": [],
   "source": [
    "from sklearn.ensemble import GradientBoostingRegressor\n",
    "#model_gb=GradientBoostingRegressor(loss='ls', learning_rate=0.05, n_estimators=400, subsample=1.0,\n",
    "#                                   criterion='friedman_mse', min_samples_split=2, min_samples_leaf=1, \n",
    "#                                  min_weight_fraction_leaf=0.0, max_depth=5, min_impurity_split=1e-07,\n",
    "#                                   init=None, random_state=None, max_features=None, alpha=0.9, \n",
    "#                                   verbose=0, \n",
    "#                                   max_leaf_nodes=None, warm_start=False, presort='auto')\n",
    "#print(cross_val_score(model_gb,x,y,cv=3))"
   ]
  },
  {
   "cell_type": "markdown",
   "metadata": {
    "_cell_guid": "a37972bf-54a9-4aaa-8439-232c0b6945fb",
    "_uuid": "63360e25addaab91f083d661b67a650c71bfe2d2"
   },
   "source": [
    "**=> KNeighbors Regressor**"
   ]
  },
  {
   "cell_type": "code",
   "execution_count": 25,
   "metadata": {
    "_cell_guid": "ed7d541a-bf8a-4f22-8232-45680a6952d2",
    "_execution_state": "busy",
    "_uuid": "6903429c6a0010b924c348bffaf6b5f561c355b6",
    "collapsed": true
   },
   "outputs": [],
   "source": [
    "from sklearn.neighbors import KNeighborsRegressor\n",
    "#model_KNN=KNeighborsRegressor(n_neighbors=5, weights='uniform', \n",
    "#                                                algorithm='auto', leaf_size=30, p=2, \n",
    "#                                                metric='minkowski', metric_params=None,\n",
    "#                                                n_jobs=-1)\n",
    "#print(cross_val_score(model_KNN,x,y,cv=3))"
   ]
  },
  {
   "cell_type": "markdown",
   "metadata": {
    "_cell_guid": "bf8cab32-f056-4ea6-8acc-cd38391db425",
    "_uuid": "5cc80254a7d63671dd1b086211726677776a0964"
   },
   "source": [
    "**=> SVM Regressor **"
   ]
  },
  {
   "cell_type": "code",
   "execution_count": 26,
   "metadata": {
    "_cell_guid": "b6efd900-92a6-48fd-b5f9-cd83758a7c8c",
    "_execution_state": "busy",
    "_uuid": "ba4023dd72ce4c5bb3ea32a389452a46da118bb2",
    "collapsed": true
   },
   "outputs": [],
   "source": [
    "from sklearn.svm import SVR\n",
    "#model_svr=SVR(kernel='rbf', degree=3, gamma='auto', coef0=0.0, tol=0.001, C=1.0, epsilon=0.1, \n",
    "#              shrinking=True, cache_size=800, verbose=False, max_iter=-1)\n",
    "#print(cross_val_score(model_svr,x,y,cv=2))"
   ]
  },
  {
   "cell_type": "markdown",
   "metadata": {
    "_cell_guid": "9a07ff8f-e3f7-48f2-96eb-34c5da55e714",
    "_uuid": "0f40db4a21d260a21b4524fe070415dbb9477946"
   },
   "source": [
    "**=> XGBoost **"
   ]
  },
  {
   "cell_type": "code",
   "execution_count": 32,
   "metadata": {
    "_cell_guid": "f4f042bd-a710-453d-9c17-8ff47fce576c",
    "_execution_state": "busy",
    "_uuid": "3eb904a55254c64e42766c74b6e6d77d16212009",
    "collapsed": false
   },
   "outputs": [],
   "source": [
    "import xgboost as xgb\n",
    "from sklearn.cross_validation import train_test_split\n",
    "Xtr, Xv, ytr, yv = train_test_split(x, y, test_size=0.2, random_state=1996)\n",
    "del x,y"
   ]
  },
  {
   "cell_type": "code",
   "execution_count": 33,
   "metadata": {
    "collapsed": false
   },
   "outputs": [
    {
     "data": {
      "text/plain": [
       "17"
      ]
     },
     "execution_count": 33,
     "metadata": {},
     "output_type": "execute_result"
    }
   ],
   "source": [
    "import gc\n",
    "gc.collect()"
   ]
  },
  {
   "cell_type": "code",
   "execution_count": 34,
   "metadata": {
    "collapsed": true
   },
   "outputs": [],
   "source": [
    "dtrain = xgb.DMatrix(Xtr, label=ytr)"
   ]
  },
  {
   "cell_type": "code",
   "execution_count": 35,
   "metadata": {
    "collapsed": true
   },
   "outputs": [],
   "source": [
    "dvalid = xgb.DMatrix(Xv, label=yv)\n",
    "#dtest = xgb.DMatrix(test[feature_names].values)\n",
    "watchlist = [(dtrain, 'train'), (dvalid, 'valid')]\n",
    "\n",
    "#From beluga's kernel\n",
    "xgb_pars = {'min_child_weight': 10, 'eta': 0.03, 'colsample_bytree': 0.3, 'max_depth': 10,\n",
    "            'subsample': 0.8, 'lambda': 0.5, 'nthread': -1, 'booster' : 'gbtree', 'silent': 1,\n",
    "            'eval_metric': 'rmse', 'objective': 'reg:linear'}"
   ]
  },
  {
   "cell_type": "code",
   "execution_count": 23,
   "metadata": {
    "collapsed": false
   },
   "outputs": [
    {
     "ename": "NameError",
     "evalue": "name 'train' is not defined",
     "output_type": "error",
     "traceback": [
      "\u001b[0;31m---------------------------------------------------------------------------\u001b[0m",
      "\u001b[0;31mNameError\u001b[0m                                 Traceback (most recent call last)",
      "\u001b[0;32m<ipython-input-23-168597951a88>\u001b[0m in \u001b[0;36m<module>\u001b[0;34m()\u001b[0m\n\u001b[0;32m----> 1\u001b[0;31m \u001b[0mprint\u001b[0m\u001b[1;33m(\u001b[0m\u001b[0mtrain\u001b[0m\u001b[1;33m.\u001b[0m\u001b[0mcolumns\u001b[0m\u001b[1;33m,\u001b[0m\u001b[0mtrain\u001b[0m\u001b[1;33m.\u001b[0m\u001b[0mshape\u001b[0m\u001b[1;33m)\u001b[0m\u001b[1;33m\u001b[0m\u001b[0m\n\u001b[0m",
      "\u001b[0;31mNameError\u001b[0m: name 'train' is not defined"
     ]
    }
   ],
   "source": [
    "print(train.columns,train.shape)"
   ]
  },
  {
   "cell_type": "code",
   "execution_count": 36,
   "metadata": {
    "collapsed": false
   },
   "outputs": [
    {
     "data": {
      "text/plain": [
       "14"
      ]
     },
     "execution_count": 36,
     "metadata": {},
     "output_type": "execute_result"
    }
   ],
   "source": [
    "import gc\n",
    "gc.collect()"
   ]
  },
  {
   "cell_type": "code",
   "execution_count": 37,
   "metadata": {
    "_cell_guid": "5c8a029b-855b-49bb-87a1-b11eef005d22",
    "_execution_state": "busy",
    "_uuid": "c8d352c42b2f78a094097d82678ed4302256f5d5",
    "collapsed": false
   },
   "outputs": [
    {
     "name": "stdout",
     "output_type": "stream",
     "text": [
      "[0]\ttrain-rmse:5.83032\tvalid-rmse:5.83178\n",
      "Multiple eval metrics have been passed: 'valid-rmse' will be used for early stopping.\n",
      "\n",
      "Will train until valid-rmse hasn't improved in 90 rounds.\n",
      "[100]\ttrain-rmse:0.46499\tvalid-rmse:0.471437\n",
      "[200]\ttrain-rmse:0.339833\tvalid-rmse:0.355036\n",
      "[300]\ttrain-rmse:0.323076\tvalid-rmse:0.345309\n",
      "[400]\ttrain-rmse:0.312563\tvalid-rmse:0.341107\n",
      "[500]\ttrain-rmse:0.304741\tvalid-rmse:0.338198\n",
      "[600]\ttrain-rmse:0.299016\tvalid-rmse:0.336373\n",
      "[700]\ttrain-rmse:0.294596\tvalid-rmse:0.33486\n",
      "[800]\ttrain-rmse:0.291324\tvalid-rmse:0.333914\n",
      "[900]\ttrain-rmse:0.288973\tvalid-rmse:0.333435\n",
      "[1000]\ttrain-rmse:0.28671\tvalid-rmse:0.333008\n",
      "[1100]\ttrain-rmse:0.284817\tvalid-rmse:0.332799\n",
      "[1200]\ttrain-rmse:0.282844\tvalid-rmse:0.332463\n",
      "[1300]\ttrain-rmse:0.280902\tvalid-rmse:0.332139\n",
      "[1400]\ttrain-rmse:0.279211\tvalid-rmse:0.331951\n",
      "[1500]\ttrain-rmse:0.277229\tvalid-rmse:0.331581\n",
      "[1600]\ttrain-rmse:0.275647\tvalid-rmse:0.33138\n",
      "[1700]\ttrain-rmse:0.274031\tvalid-rmse:0.331144\n",
      "[1800]\ttrain-rmse:0.272599\tvalid-rmse:0.330949\n",
      "[1900]\ttrain-rmse:0.271068\tvalid-rmse:0.330718\n",
      "[2000]\ttrain-rmse:0.269618\tvalid-rmse:0.330526\n",
      "[2100]\ttrain-rmse:0.268227\tvalid-rmse:0.330362\n",
      "[2200]\ttrain-rmse:0.266812\tvalid-rmse:0.330228\n",
      "[2300]\ttrain-rmse:0.26547\tvalid-rmse:0.330041\n",
      "[2400]\ttrain-rmse:0.2643\tvalid-rmse:0.329894\n",
      "[2500]\ttrain-rmse:0.263074\tvalid-rmse:0.329726\n",
      "[2600]\ttrain-rmse:0.2619\tvalid-rmse:0.329599\n",
      "[2700]\ttrain-rmse:0.260616\tvalid-rmse:0.329443\n",
      "[2800]\ttrain-rmse:0.259442\tvalid-rmse:0.329316\n",
      "[2900]\ttrain-rmse:0.258333\tvalid-rmse:0.329189\n",
      "[3000]\ttrain-rmse:0.257245\tvalid-rmse:0.329075\n",
      "[3100]\ttrain-rmse:0.256184\tvalid-rmse:0.328969\n",
      "[3200]\ttrain-rmse:0.255067\tvalid-rmse:0.328842\n",
      "[3300]\ttrain-rmse:0.25405\tvalid-rmse:0.328732\n",
      "[3400]\ttrain-rmse:0.25284\tvalid-rmse:0.328559\n",
      "[3500]\ttrain-rmse:0.251935\tvalid-rmse:0.32847\n",
      "[3600]\ttrain-rmse:0.250861\tvalid-rmse:0.328348\n",
      "[3700]\ttrain-rmse:0.24986\tvalid-rmse:0.328271\n",
      "[3800]\ttrain-rmse:0.248916\tvalid-rmse:0.328177\n",
      "[3900]\ttrain-rmse:0.24808\tvalid-rmse:0.328125\n",
      "[4000]\ttrain-rmse:0.247078\tvalid-rmse:0.32801\n",
      "[4100]\ttrain-rmse:0.24611\tvalid-rmse:0.327881\n",
      "[4200]\ttrain-rmse:0.245207\tvalid-rmse:0.327819\n",
      "[4300]\ttrain-rmse:0.244429\tvalid-rmse:0.327794\n",
      "[4400]\ttrain-rmse:0.2436\tvalid-rmse:0.327763\n",
      "[4500]\ttrain-rmse:0.242576\tvalid-rmse:0.327668\n",
      "[4600]\ttrain-rmse:0.241738\tvalid-rmse:0.327605\n",
      "[4700]\ttrain-rmse:0.240908\tvalid-rmse:0.327576\n",
      "[4800]\ttrain-rmse:0.240053\tvalid-rmse:0.327495\n",
      "[4900]\ttrain-rmse:0.239177\tvalid-rmse:0.32744\n",
      "[5000]\ttrain-rmse:0.238357\tvalid-rmse:0.327413\n",
      "[5100]\ttrain-rmse:0.237541\tvalid-rmse:0.327361\n",
      "[5200]\ttrain-rmse:0.236756\tvalid-rmse:0.327325\n",
      "[5300]\ttrain-rmse:0.235898\tvalid-rmse:0.327259\n",
      "[5400]\ttrain-rmse:0.235132\tvalid-rmse:0.327216\n",
      "[5500]\ttrain-rmse:0.234427\tvalid-rmse:0.327179\n",
      "[5600]\ttrain-rmse:0.233652\tvalid-rmse:0.327138\n",
      "[5700]\ttrain-rmse:0.23293\tvalid-rmse:0.327113\n",
      "[5800]\ttrain-rmse:0.232244\tvalid-rmse:0.32712\n",
      "Stopping. Best iteration:\n",
      "[5710]\ttrain-rmse:0.232852\tvalid-rmse:0.327106\n",
      "\n"
     ]
    }
   ],
   "source": [
    "model = xgb.train(xgb_pars, dtrain, 100000, watchlist, early_stopping_rounds=90,\n",
    "                  maximize=False, verbose_eval=100)"
   ]
  },
  {
   "cell_type": "code",
   "execution_count": 38,
   "metadata": {
    "_cell_guid": "e08f935e-a05e-4771-81a7-3d49b5b8ddb5",
    "_execution_state": "busy",
    "_uuid": "3118602c0cfdfdf7969ae83e704edcf5646775db",
    "collapsed": false
   },
   "outputs": [
    {
     "name": "stdout",
     "output_type": "stream",
     "text": [
      "Modeling RMSLE 0.32711\n"
     ]
    }
   ],
   "source": [
    "print('Modeling RMSLE %.5f' % model.best_score)"
   ]
  },
  {
   "cell_type": "code",
   "execution_count": 39,
   "metadata": {
    "_cell_guid": "921d08be-12ff-4c8d-9e85-f9fe6a30abec",
    "_execution_state": "busy",
    "_uuid": "193336e397dfda8361fef5b8118b489756430e7d",
    "collapsed": false,
    "scrolled": true
   },
   "outputs": [
    {
     "data": {
      "image/png": "[encoded data removed]",
      "text/plain": [
       "<matplotlib.figure.Figure at 0x171c5e6bfd0>"
      ]
     },
     "metadata": {},
     "output_type": "display_data"
    }
   ],
   "source": [
    "xgb.plot_importance(model, ax=None, height=0.2, xlim=None,\n",
    "                    ylim=None, title='Feature importance',\n",
    "                    xlabel='F score', ylabel='Features',\n",
    "                    importance_type='weight', max_num_features=None,\n",
    "                    grid=True)\n",
    "plt.show()\n"
   ]
  },
  {
   "cell_type": "code",
   "execution_count": 40,
   "metadata": {
    "collapsed": true
   },
   "outputs": [],
   "source": [
    "import pickle\n",
    "pickle.dump(model,open('xgb_14sep.sav','wb'))"
   ]
  },
  {
   "cell_type": "code",
   "execution_count": 41,
   "metadata": {
    "collapsed": false
   },
   "outputs": [],
   "source": [
    "model=pickle.load(open('xgb_14sep.sav','rb'))\n",
    "tst['store_and_fwd_flag']=le.fit_transform(tst['store_and_fwd_flag'])\n",
    "dtest = xgb.DMatrix(tst)\n",
    "ytest = model.predict(dtest)\n",
    "test['trip_duration'] = np.exp(ytest) - 1\n",
    "test[['id', 'trip_duration']].to_csv('xgb_submission_14sep.csv.gz', index=False, compression='gzip')"
   ]
  },
  {
   "cell_type": "code",
   "execution_count": null,
   "metadata": {
    "collapsed": true
   },
   "outputs": [],
   "source": []
  },
  {
   "cell_type": "markdown",
   "metadata": {
    "_cell_guid": "366ffab4-fecb-4716-a622-157701aab84a",
    "_uuid": "c34e272d772be023ea622a35167d3c3a5cf16e35"
   },
   "source": [
    "**More to come.Stay Tunned :  )**\n",
    "\n",
    "**Please upvote it , if you found my effort useful for you :> **\n",
    "\n",
    "**Any suggestions are most welcome : )**"
   ]
  }
 ],
 "metadata": {
  "kernelspec": {
   "display_name": "Python 3",
   "language": "python",
   "name": "python3"
  },
  "language_info": {
   "codemirror_mode": {
    "name": "ipython",
    "version": 3
   },
   "file_extension": ".py",
   "mimetype": "text/x-python",
   "name": "python",
   "nbconvert_exporter": "python",
   "pygments_lexer": "ipython3",
   "version": "3.6.0"
  }
 },
 "nbformat": 4,
 "nbformat_minor": 1
}
